{
  "cells": [
    {
      "cell_type": "markdown",
      "metadata": {
        "id": "view-in-github",
        "colab_type": "text"
      },
      "source": [
        "<a href=\"https://colab.research.google.com/github/viixne/dr-resources/blob/main/NLP_Hackathon__.ipynb\" target=\"_parent\"><img src=\"https://colab.research.google.com/assets/colab-badge.svg\" alt=\"Open In Colab\"/></a>"
      ]
    },
    {
      "cell_type": "markdown",
      "metadata": {
        "id": "dtwdslWhhRk1"
      },
      "source": [
        "#NLP hackathon"
      ]
    },
    {
      "cell_type": "markdown",
      "metadata": {
        "id": "inyAs3eihn3C"
      },
      "source": [
        "## Importing the Libraries"
      ]
    },
    {
      "cell_type": "code",
      "execution_count": 1,
      "metadata": {
        "id": "zPF8qnddhH6h"
      },
      "outputs": [],
      "source": [
        "# utilities\n",
        "import re\n",
        "import pickle\n",
        "import numpy as np\n",
        "import pandas as pd\n",
        "\n",
        "# plotting\n",
        "import seaborn as sns\n",
        "from wordcloud import WordCloud\n",
        "import matplotlib.pyplot as plt\n",
        "\n",
        "# nltk\n",
        "from nltk.stem import WordNetLemmatizer\n",
        "\n",
        "# sklearn\n",
        "from sklearn.linear_model import LogisticRegression\n",
        "\n",
        "from sklearn.model_selection import train_test_split\n",
        "from sklearn.feature_extraction.text import TfidfVectorizer\n",
        "from sklearn.metrics import confusion_matrix, classification_report\n"
      ]
    },
    {
      "cell_type": "markdown",
      "source": [
        "Data set can be found [here](https://drive.google.com/file/d/1nLe663f5ixOboXnVt8Z39h0wos3tjIoS/view?usp=sharing)"
      ],
      "metadata": {
        "id": "rPV_aVdE9vaU"
      }
    },
    {
      "cell_type": "code",
      "execution_count": 16,
      "metadata": {
        "id": "8TQS85NYn1bV"
      },
      "outputs": [],
      "source": [
        "# Importing the dataset\n",
        "DATASET_COLUMNS  = [\"sentiment\", \"ids\", \"date\", \"flag\", \"user\", \"text\"]\n",
        "DATASET_ENCODING = \"ISO-8859-1\"\n",
        "dataset = pd.read_csv('pp',encoding=DATASET_ENCODING , names=DATASET_COLUMNS)\n",
        "\n"
      ]
    },
    {
      "cell_type": "code",
      "source": [
        "#View the data. You can either call the name or leverage the head method. If you are using the head method try using (-1) in the number part\n",
        "# And take a look at what the data would look like\n",
        "# Code here\n",
        "dataset.head(-1)\n"
      ],
      "metadata": {
        "colab": {
          "base_uri": "https://localhost:8080/",
          "height": 423
        },
        "id": "mEqNOCyokurz",
        "outputId": "8b0484b1-e6dd-49ee-d02a-ec76966f8858"
      },
      "execution_count": 21,
      "outputs": [
        {
          "output_type": "execute_result",
          "data": {
            "text/plain": [
              "         sentiment         ids                          date      flag  \\\n",
              "0                0  1467810369  Mon Apr 06 22:19:45 PDT 2009  NO_QUERY   \n",
              "1                0  1467810672  Mon Apr 06 22:19:49 PDT 2009  NO_QUERY   \n",
              "2                0  1467810917  Mon Apr 06 22:19:53 PDT 2009  NO_QUERY   \n",
              "3                0  1467811184  Mon Apr 06 22:19:57 PDT 2009  NO_QUERY   \n",
              "4                0  1467811193  Mon Apr 06 22:19:57 PDT 2009  NO_QUERY   \n",
              "...            ...         ...                           ...       ...   \n",
              "1599994          4  2193579489  Tue Jun 16 08:39:00 PDT 2009  NO_QUERY   \n",
              "1599995          4  2193601966  Tue Jun 16 08:40:49 PDT 2009  NO_QUERY   \n",
              "1599996          4  2193601969  Tue Jun 16 08:40:49 PDT 2009  NO_QUERY   \n",
              "1599997          4  2193601991  Tue Jun 16 08:40:49 PDT 2009  NO_QUERY   \n",
              "1599998          4  2193602064  Tue Jun 16 08:40:49 PDT 2009  NO_QUERY   \n",
              "\n",
              "                    user                                               text  \n",
              "0        _TheSpecialOne_  @switchfoot http://twitpic.com/2y1zl - Awww, t...  \n",
              "1          scotthamilton  is upset that he can't update his Facebook by ...  \n",
              "2               mattycus  @Kenichan I dived many times for the ball. Man...  \n",
              "3                ElleCTF    my whole body feels itchy and like its on fire   \n",
              "4                 Karoli  @nationwideclass no, it's not behaving at all....  \n",
              "...                  ...                                                ...  \n",
              "1599994        EvolveTom  @Cliff_Forster Yeah, that does work better tha...  \n",
              "1599995  AmandaMarie1028  Just woke up. Having no school is the best fee...  \n",
              "1599996      TheWDBoards  TheWDB.com - Very cool to hear old Walt interv...  \n",
              "1599997           bpbabe  Are you ready for your MoJo Makeover? Ask me f...  \n",
              "1599998     tinydiamondz  Happy 38th Birthday to my boo of alll time!!! ...  \n",
              "\n",
              "[1599999 rows x 6 columns]"
            ],
            "text/html": [
              "\n",
              "  <div id=\"df-d788e00c-089c-43f8-a91b-384b6ee98342\" class=\"colab-df-container\">\n",
              "    <div>\n",
              "<style scoped>\n",
              "    .dataframe tbody tr th:only-of-type {\n",
              "        vertical-align: middle;\n",
              "    }\n",
              "\n",
              "    .dataframe tbody tr th {\n",
              "        vertical-align: top;\n",
              "    }\n",
              "\n",
              "    .dataframe thead th {\n",
              "        text-align: right;\n",
              "    }\n",
              "</style>\n",
              "<table border=\"1\" class=\"dataframe\">\n",
              "  <thead>\n",
              "    <tr style=\"text-align: right;\">\n",
              "      <th></th>\n",
              "      <th>sentiment</th>\n",
              "      <th>ids</th>\n",
              "      <th>date</th>\n",
              "      <th>flag</th>\n",
              "      <th>user</th>\n",
              "      <th>text</th>\n",
              "    </tr>\n",
              "  </thead>\n",
              "  <tbody>\n",
              "    <tr>\n",
              "      <th>0</th>\n",
              "      <td>0</td>\n",
              "      <td>1467810369</td>\n",
              "      <td>Mon Apr 06 22:19:45 PDT 2009</td>\n",
              "      <td>NO_QUERY</td>\n",
              "      <td>_TheSpecialOne_</td>\n",
              "      <td>@switchfoot http://twitpic.com/2y1zl - Awww, t...</td>\n",
              "    </tr>\n",
              "    <tr>\n",
              "      <th>1</th>\n",
              "      <td>0</td>\n",
              "      <td>1467810672</td>\n",
              "      <td>Mon Apr 06 22:19:49 PDT 2009</td>\n",
              "      <td>NO_QUERY</td>\n",
              "      <td>scotthamilton</td>\n",
              "      <td>is upset that he can't update his Facebook by ...</td>\n",
              "    </tr>\n",
              "    <tr>\n",
              "      <th>2</th>\n",
              "      <td>0</td>\n",
              "      <td>1467810917</td>\n",
              "      <td>Mon Apr 06 22:19:53 PDT 2009</td>\n",
              "      <td>NO_QUERY</td>\n",
              "      <td>mattycus</td>\n",
              "      <td>@Kenichan I dived many times for the ball. Man...</td>\n",
              "    </tr>\n",
              "    <tr>\n",
              "      <th>3</th>\n",
              "      <td>0</td>\n",
              "      <td>1467811184</td>\n",
              "      <td>Mon Apr 06 22:19:57 PDT 2009</td>\n",
              "      <td>NO_QUERY</td>\n",
              "      <td>ElleCTF</td>\n",
              "      <td>my whole body feels itchy and like its on fire</td>\n",
              "    </tr>\n",
              "    <tr>\n",
              "      <th>4</th>\n",
              "      <td>0</td>\n",
              "      <td>1467811193</td>\n",
              "      <td>Mon Apr 06 22:19:57 PDT 2009</td>\n",
              "      <td>NO_QUERY</td>\n",
              "      <td>Karoli</td>\n",
              "      <td>@nationwideclass no, it's not behaving at all....</td>\n",
              "    </tr>\n",
              "    <tr>\n",
              "      <th>...</th>\n",
              "      <td>...</td>\n",
              "      <td>...</td>\n",
              "      <td>...</td>\n",
              "      <td>...</td>\n",
              "      <td>...</td>\n",
              "      <td>...</td>\n",
              "    </tr>\n",
              "    <tr>\n",
              "      <th>1599994</th>\n",
              "      <td>4</td>\n",
              "      <td>2193579489</td>\n",
              "      <td>Tue Jun 16 08:39:00 PDT 2009</td>\n",
              "      <td>NO_QUERY</td>\n",
              "      <td>EvolveTom</td>\n",
              "      <td>@Cliff_Forster Yeah, that does work better tha...</td>\n",
              "    </tr>\n",
              "    <tr>\n",
              "      <th>1599995</th>\n",
              "      <td>4</td>\n",
              "      <td>2193601966</td>\n",
              "      <td>Tue Jun 16 08:40:49 PDT 2009</td>\n",
              "      <td>NO_QUERY</td>\n",
              "      <td>AmandaMarie1028</td>\n",
              "      <td>Just woke up. Having no school is the best fee...</td>\n",
              "    </tr>\n",
              "    <tr>\n",
              "      <th>1599996</th>\n",
              "      <td>4</td>\n",
              "      <td>2193601969</td>\n",
              "      <td>Tue Jun 16 08:40:49 PDT 2009</td>\n",
              "      <td>NO_QUERY</td>\n",
              "      <td>TheWDBoards</td>\n",
              "      <td>TheWDB.com - Very cool to hear old Walt interv...</td>\n",
              "    </tr>\n",
              "    <tr>\n",
              "      <th>1599997</th>\n",
              "      <td>4</td>\n",
              "      <td>2193601991</td>\n",
              "      <td>Tue Jun 16 08:40:49 PDT 2009</td>\n",
              "      <td>NO_QUERY</td>\n",
              "      <td>bpbabe</td>\n",
              "      <td>Are you ready for your MoJo Makeover? Ask me f...</td>\n",
              "    </tr>\n",
              "    <tr>\n",
              "      <th>1599998</th>\n",
              "      <td>4</td>\n",
              "      <td>2193602064</td>\n",
              "      <td>Tue Jun 16 08:40:49 PDT 2009</td>\n",
              "      <td>NO_QUERY</td>\n",
              "      <td>tinydiamondz</td>\n",
              "      <td>Happy 38th Birthday to my boo of alll time!!! ...</td>\n",
              "    </tr>\n",
              "  </tbody>\n",
              "</table>\n",
              "<p>1599999 rows × 6 columns</p>\n",
              "</div>\n",
              "    <div class=\"colab-df-buttons\">\n",
              "\n",
              "  <div class=\"colab-df-container\">\n",
              "    <button class=\"colab-df-convert\" onclick=\"convertToInteractive('df-d788e00c-089c-43f8-a91b-384b6ee98342')\"\n",
              "            title=\"Convert this dataframe to an interactive table.\"\n",
              "            style=\"display:none;\">\n",
              "\n",
              "  <svg xmlns=\"http://www.w3.org/2000/svg\" height=\"24px\" viewBox=\"0 -960 960 960\">\n",
              "    <path d=\"M120-120v-720h720v720H120Zm60-500h600v-160H180v160Zm220 220h160v-160H400v160Zm0 220h160v-160H400v160ZM180-400h160v-160H180v160Zm440 0h160v-160H620v160ZM180-180h160v-160H180v160Zm440 0h160v-160H620v160Z\"/>\n",
              "  </svg>\n",
              "    </button>\n",
              "\n",
              "  <style>\n",
              "    .colab-df-container {\n",
              "      display:flex;\n",
              "      gap: 12px;\n",
              "    }\n",
              "\n",
              "    .colab-df-convert {\n",
              "      background-color: #E8F0FE;\n",
              "      border: none;\n",
              "      border-radius: 50%;\n",
              "      cursor: pointer;\n",
              "      display: none;\n",
              "      fill: #1967D2;\n",
              "      height: 32px;\n",
              "      padding: 0 0 0 0;\n",
              "      width: 32px;\n",
              "    }\n",
              "\n",
              "    .colab-df-convert:hover {\n",
              "      background-color: #E2EBFA;\n",
              "      box-shadow: 0px 1px 2px rgba(60, 64, 67, 0.3), 0px 1px 3px 1px rgba(60, 64, 67, 0.15);\n",
              "      fill: #174EA6;\n",
              "    }\n",
              "\n",
              "    .colab-df-buttons div {\n",
              "      margin-bottom: 4px;\n",
              "    }\n",
              "\n",
              "    [theme=dark] .colab-df-convert {\n",
              "      background-color: #3B4455;\n",
              "      fill: #D2E3FC;\n",
              "    }\n",
              "\n",
              "    [theme=dark] .colab-df-convert:hover {\n",
              "      background-color: #434B5C;\n",
              "      box-shadow: 0px 1px 3px 1px rgba(0, 0, 0, 0.15);\n",
              "      filter: drop-shadow(0px 1px 2px rgba(0, 0, 0, 0.3));\n",
              "      fill: #FFFFFF;\n",
              "    }\n",
              "  </style>\n",
              "\n",
              "    <script>\n",
              "      const buttonEl =\n",
              "        document.querySelector('#df-d788e00c-089c-43f8-a91b-384b6ee98342 button.colab-df-convert');\n",
              "      buttonEl.style.display =\n",
              "        google.colab.kernel.accessAllowed ? 'block' : 'none';\n",
              "\n",
              "      async function convertToInteractive(key) {\n",
              "        const element = document.querySelector('#df-d788e00c-089c-43f8-a91b-384b6ee98342');\n",
              "        const dataTable =\n",
              "          await google.colab.kernel.invokeFunction('convertToInteractive',\n",
              "                                                    [key], {});\n",
              "        if (!dataTable) return;\n",
              "\n",
              "        const docLinkHtml = 'Like what you see? Visit the ' +\n",
              "          '<a target=\"_blank\" href=https://colab.research.google.com/notebooks/data_table.ipynb>data table notebook</a>'\n",
              "          + ' to learn more about interactive tables.';\n",
              "        element.innerHTML = '';\n",
              "        dataTable['output_type'] = 'display_data';\n",
              "        await google.colab.output.renderOutput(dataTable, element);\n",
              "        const docLink = document.createElement('div');\n",
              "        docLink.innerHTML = docLinkHtml;\n",
              "        element.appendChild(docLink);\n",
              "      }\n",
              "    </script>\n",
              "  </div>\n",
              "\n",
              "\n",
              "<div id=\"df-6c1e94e7-faf2-4e7e-a45c-c79341a2786b\">\n",
              "  <button class=\"colab-df-quickchart\" onclick=\"quickchart('df-6c1e94e7-faf2-4e7e-a45c-c79341a2786b')\"\n",
              "            title=\"Suggest charts\"\n",
              "            style=\"display:none;\">\n",
              "\n",
              "<svg xmlns=\"http://www.w3.org/2000/svg\" height=\"24px\"viewBox=\"0 0 24 24\"\n",
              "     width=\"24px\">\n",
              "    <g>\n",
              "        <path d=\"M19 3H5c-1.1 0-2 .9-2 2v14c0 1.1.9 2 2 2h14c1.1 0 2-.9 2-2V5c0-1.1-.9-2-2-2zM9 17H7v-7h2v7zm4 0h-2V7h2v10zm4 0h-2v-4h2v4z\"/>\n",
              "    </g>\n",
              "</svg>\n",
              "  </button>\n",
              "\n",
              "<style>\n",
              "  .colab-df-quickchart {\n",
              "      --bg-color: #E8F0FE;\n",
              "      --fill-color: #1967D2;\n",
              "      --hover-bg-color: #E2EBFA;\n",
              "      --hover-fill-color: #174EA6;\n",
              "      --disabled-fill-color: #AAA;\n",
              "      --disabled-bg-color: #DDD;\n",
              "  }\n",
              "\n",
              "  [theme=dark] .colab-df-quickchart {\n",
              "      --bg-color: #3B4455;\n",
              "      --fill-color: #D2E3FC;\n",
              "      --hover-bg-color: #434B5C;\n",
              "      --hover-fill-color: #FFFFFF;\n",
              "      --disabled-bg-color: #3B4455;\n",
              "      --disabled-fill-color: #666;\n",
              "  }\n",
              "\n",
              "  .colab-df-quickchart {\n",
              "    background-color: var(--bg-color);\n",
              "    border: none;\n",
              "    border-radius: 50%;\n",
              "    cursor: pointer;\n",
              "    display: none;\n",
              "    fill: var(--fill-color);\n",
              "    height: 32px;\n",
              "    padding: 0;\n",
              "    width: 32px;\n",
              "  }\n",
              "\n",
              "  .colab-df-quickchart:hover {\n",
              "    background-color: var(--hover-bg-color);\n",
              "    box-shadow: 0 1px 2px rgba(60, 64, 67, 0.3), 0 1px 3px 1px rgba(60, 64, 67, 0.15);\n",
              "    fill: var(--button-hover-fill-color);\n",
              "  }\n",
              "\n",
              "  .colab-df-quickchart-complete:disabled,\n",
              "  .colab-df-quickchart-complete:disabled:hover {\n",
              "    background-color: var(--disabled-bg-color);\n",
              "    fill: var(--disabled-fill-color);\n",
              "    box-shadow: none;\n",
              "  }\n",
              "\n",
              "  .colab-df-spinner {\n",
              "    border: 2px solid var(--fill-color);\n",
              "    border-color: transparent;\n",
              "    border-bottom-color: var(--fill-color);\n",
              "    animation:\n",
              "      spin 1s steps(1) infinite;\n",
              "  }\n",
              "\n",
              "  @keyframes spin {\n",
              "    0% {\n",
              "      border-color: transparent;\n",
              "      border-bottom-color: var(--fill-color);\n",
              "      border-left-color: var(--fill-color);\n",
              "    }\n",
              "    20% {\n",
              "      border-color: transparent;\n",
              "      border-left-color: var(--fill-color);\n",
              "      border-top-color: var(--fill-color);\n",
              "    }\n",
              "    30% {\n",
              "      border-color: transparent;\n",
              "      border-left-color: var(--fill-color);\n",
              "      border-top-color: var(--fill-color);\n",
              "      border-right-color: var(--fill-color);\n",
              "    }\n",
              "    40% {\n",
              "      border-color: transparent;\n",
              "      border-right-color: var(--fill-color);\n",
              "      border-top-color: var(--fill-color);\n",
              "    }\n",
              "    60% {\n",
              "      border-color: transparent;\n",
              "      border-right-color: var(--fill-color);\n",
              "    }\n",
              "    80% {\n",
              "      border-color: transparent;\n",
              "      border-right-color: var(--fill-color);\n",
              "      border-bottom-color: var(--fill-color);\n",
              "    }\n",
              "    90% {\n",
              "      border-color: transparent;\n",
              "      border-bottom-color: var(--fill-color);\n",
              "    }\n",
              "  }\n",
              "</style>\n",
              "\n",
              "  <script>\n",
              "    async function quickchart(key) {\n",
              "      const quickchartButtonEl =\n",
              "        document.querySelector('#' + key + ' button');\n",
              "      quickchartButtonEl.disabled = true;  // To prevent multiple clicks.\n",
              "      quickchartButtonEl.classList.add('colab-df-spinner');\n",
              "      try {\n",
              "        const charts = await google.colab.kernel.invokeFunction(\n",
              "            'suggestCharts', [key], {});\n",
              "      } catch (error) {\n",
              "        console.error('Error during call to suggestCharts:', error);\n",
              "      }\n",
              "      quickchartButtonEl.classList.remove('colab-df-spinner');\n",
              "      quickchartButtonEl.classList.add('colab-df-quickchart-complete');\n",
              "    }\n",
              "    (() => {\n",
              "      let quickchartButtonEl =\n",
              "        document.querySelector('#df-6c1e94e7-faf2-4e7e-a45c-c79341a2786b button');\n",
              "      quickchartButtonEl.style.display =\n",
              "        google.colab.kernel.accessAllowed ? 'block' : 'none';\n",
              "    })();\n",
              "  </script>\n",
              "</div>\n",
              "    </div>\n",
              "  </div>\n"
            ]
          },
          "metadata": {},
          "execution_count": 21
        }
      ]
    },
    {
      "cell_type": "markdown",
      "source": [
        "Hmm, looks like sentiment column has values from 0 to 4. But, its only supposed to have 2 values right. Let's first chek how many unique values does Sentiment column has.\n",
        "<br>\n",
        "You have a line to check that in slides.\n",
        "**Hint**: Unique()"
      ],
      "metadata": {
        "id": "yBvaeceu6ebJ"
      }
    },
    {
      "cell_type": "code",
      "source": [
        "#Unique pulls all the unique values in a particular column\n",
        "# Code here\n",
        "dataset[\"sentiment\"].unique()"
      ],
      "metadata": {
        "colab": {
          "base_uri": "https://localhost:8080/"
        },
        "id": "EqsJzKnClnZo",
        "outputId": "7ffc1c87-221c-44e5-8d4f-1fe7d8cf46ce"
      },
      "execution_count": 24,
      "outputs": [
        {
          "output_type": "execute_result",
          "data": {
            "text/plain": [
              "array([0, 4])"
            ]
          },
          "metadata": {},
          "execution_count": 24
        }
      ]
    },
    {
      "cell_type": "markdown",
      "metadata": {
        "id": "mScJNdZ6z3Kw"
      },
      "source": [
        "Looks like we can perform some preprocessing steps and gut checks various steps would be\n",
        "1. Removing unecessary columns.\n",
        "2. Target labels has 0,4 as negative and positive sentiment. Let's change that\n",
        "3. checking if we have equall positive and negative labels (we don't want model to take one side)\n",
        "3. Perform text preprocessing operations\n"
      ]
    },
    {
      "cell_type": "code",
      "execution_count": 26,
      "metadata": {
        "id": "5IUTFGswn1QN",
        "colab": {
          "base_uri": "https://localhost:8080/"
        },
        "outputId": "2d5b6bbc-73b1-4ff5-f354-a37382bf605c"
      },
      "outputs": [
        {
          "output_type": "stream",
          "name": "stderr",
          "text": [
            "<ipython-input-26-bd440a50f95c>:5: SettingWithCopyWarning: \n",
            "A value is trying to be set on a copy of a slice from a DataFrame.\n",
            "Try using .loc[row_indexer,col_indexer] = value instead\n",
            "\n",
            "See the caveats in the documentation: https://pandas.pydata.org/pandas-docs/stable/user_guide/indexing.html#returning-a-view-versus-a-copy\n",
            "  dataset['sentiment'] = dataset['sentiment'].replace(4, 1)  #Replace 4 with 1 here\n"
          ]
        }
      ],
      "source": [
        "#  Removing the unnecessary columns.\n",
        "dataset = dataset[['sentiment','text']]\n",
        "\n",
        "# Replacing the values to ease understanding.\n",
        "dataset['sentiment'] = dataset['sentiment'].replace(4, 1)  #Replace 4 with 1 here\n",
        "\n"
      ]
    },
    {
      "cell_type": "code",
      "execution_count": 27,
      "metadata": {
        "colab": {
          "base_uri": "https://localhost:8080/"
        },
        "id": "-MzKdU2JuM7N",
        "outputId": "c680a543-e003-49d8-dd5d-b4d5b7625798"
      },
      "outputs": [
        {
          "output_type": "execute_result",
          "data": {
            "text/plain": [
              "pandas.core.series.Series"
            ]
          },
          "metadata": {},
          "execution_count": 27
        }
      ],
      "source": [
        "type(dataset['text'])"
      ]
    },
    {
      "cell_type": "code",
      "execution_count": 49,
      "metadata": {
        "colab": {
          "base_uri": "https://localhost:8080/",
          "height": 566
        },
        "id": "maR0Ztkwn1Dj",
        "outputId": "6bad635e-683f-4d23-ec63-d6b565b3e3d6"
      },
      "outputs": [
        {
          "output_type": "display_data",
          "data": {
            "text/plain": [
              "<Figure size 800x600 with 1 Axes>"
            ],
            "image/png": "[encoded data removed]"
          },
          "metadata": {}
        }
      ],
      "source": [
        "# checking if we have equall positive and negative labels (we don't want model to take one side)\n",
        "plt.figure(figsize = (8,6))\n",
        "sns.countplot(x = 'sentiment', data = dataset)  #Fill in the right values for x and data\n",
        "\n",
        "plt.title(\"Positive Vs. Negative reviews count\", fontsize = 15)\n",
        "plt.show()\n",
        "# print(df.shape)\n",
        "\n",
        "#In ML algorithms, its essential that target values have same distribution,\n",
        "# cause if we have more positive labels, model may end up classifying all labels as positive\n"
      ]
    },
    {
      "cell_type": "code",
      "source": [
        "# Lets take a look at the text data that we have\n",
        "dataset['text'][np.random.randint(0, 160000)]"
      ],
      "metadata": {
        "colab": {
          "base_uri": "https://localhost:8080/",
          "height": 36
        },
        "id": "dK2WNOaLmsk_",
        "outputId": "3b32b6d5-0efe-451f-b2c8-0f5fde25ee6a"
      },
      "execution_count": 41,
      "outputs": [
        {
          "output_type": "execute_result",
          "data": {
            "text/plain": [
              "'whooooaaa another one of those doomsday dreams!! '"
            ],
            "application/vnd.google.colaboratory.intrinsic+json": {
              "type": "string"
            }
          },
          "metadata": {},
          "execution_count": 41
        }
      ]
    },
    {
      "cell_type": "markdown",
      "source": [
        "We need to transform this text into a better text so that our algorithms makes better results out of it"
      ],
      "metadata": {
        "id": "XFUvLTFinMX6"
      }
    },
    {
      "cell_type": "markdown",
      "metadata": {
        "id": "9RhvtGlGu6vU"
      },
      "source": [
        "## <a name=\"p3\">Preprocess Text</a>\n",
        "**Text Preprocessing** is traditionally an important step for **Natural Language Processing (NLP)** tasks. It transforms text into a more digestible form so that machine learning algorithms can perform better.\n",
        "\n",
        "**The Preprocessing steps taken are:**\n",
        "1. **Lower Casing:** Each text is converted to lowercase.\n",
        "2. **Replacing URLs:** Links starting with **\"http\" or \"https\" or \"www\"** are replaced by **\"URL\"**.\n",
        "3. **Replacing Emojis:** Replace emojis by using a pre-defined dictionary containing emojis along with their meaning. *(eg: \":)\" to \"EMOJIsmile\")*\n",
        "4. **Replacing Usernames:** Replace @Usernames with word **\"USER\"**. *(eg: \"@Kaggle\" to \"USER\")*\n",
        "5. **Removing Non-Alphabets:** Replacing characters except Digits and Alphabets with a space.\n",
        "6. **Removing Consecutive letters:** 3 or more consecutive letters are replaced by 2 letters. *(eg: \"Heyyyy\" to \"Heyy\")*\n",
        "7. **Removing Short Words:** Words with length less than 2 are removed.\n",
        "8. **Removing Stopwords:** Stopwords are the English words which does not add much meaning to a sentence. They can safely be ignored without sacrificing the meaning of the sentence. *(eg: \"the\", \"he\", \"have\")*\n",
        "9. **Lemmatizing:** Lemmatization is the process of converting a word to its base form. *(e.g: “Great” to “Good”)*\n",
        "<br>\n",
        "Lemmatization is a natural language processing (NLP) technique that involves reducing words to their base or root form, known as the lemma\n",
        "<br><br>\n",
        "For example, consider the words \"running,\" \"ran,\" and \"runs.\"  All of these words essentially means the same, we don't want our model to treat these as different words. Hence, we change these words into their base form\n",
        "<br>\n",
        "Thus the lemma for all of these words would be \"run.\""
      ]
    },
    {
      "cell_type": "markdown",
      "source": [
        "Since the dataset we have is so big, let's take a couple of texts and see how each step will change the text. As long as our function works well on a couple of paragraph texts inside a list. we can put the entire text data we have isdie a list and perform all functions at once.\n",
        "<br>\n",
        "So, the plan would look like this\n",
        "a. Take a list with couple of RAW texts\n",
        "b. See wether our function works as expected on these small list of texts"
      ],
      "metadata": {
        "id": "7wVf1QM_70J2"
      }
    },
    {
      "cell_type": "code",
      "source": [
        "small_list = [\"In Ipoh now. Eta 6.45pm hope the jam not too bad. Lots of trees being chopped :(. Oh well \",\n",
        "              \"When will `X-Men Origins:Wolverine` release in india ? looks like multiplex 'es are on strike  - no new films ?  #wolverine\",\n",
        "              \"just finished one final ; got another one at 10! ..DEF. no sleep!\",\n",
        "              \"@madmup We watch My Name is Earl, Reaper, Chuck, Castle and kind of Dollhouse together and @bishma also watches Sarah Connor Chronicles.\",\n",
        "              \"@AlexAllTimeLow awwwwwwwwwwwwww pooor allexx \",\n",
        "              \"@dannygokey why arent on i on when u r!?!!!!?!? \",\n",
        "              \"3:45 am and I can't sleep.....  Maybe I'll watch something on https://instagram.com \"\n",
        "              ]\n",
        "small_list"
      ],
      "metadata": {
        "colab": {
          "base_uri": "https://localhost:8080/"
        },
        "id": "-YtbjcEs-LG2",
        "outputId": "3b7ac5dd-5779-4edb-e436-a09604ae009e"
      },
      "execution_count": 76,
      "outputs": [
        {
          "output_type": "execute_result",
          "data": {
            "text/plain": [
              "['In Ipoh now. Eta 6.45pm hope the jam not too bad. Lots of trees being chopped :(. Oh well ',\n",
              " \"When will `X-Men Origins:Wolverine` release in india ? looks like multiplex 'es are on strike  - no new films ?  #wolverine\",\n",
              " 'just finished one final ; got another one at 10! ..DEF. no sleep!',\n",
              " '@madmup We watch My Name is Earl, Reaper, Chuck, Castle and kind of Dollhouse together and @bishma also watches Sarah Connor Chronicles.',\n",
              " '@AlexAllTimeLow awwwwwwwwwwwwww pooor allexx ',\n",
              " '@dannygokey why arent on i on when u r!?!!!!?!? ',\n",
              " \"3:45 am and I can't sleep.....  Maybe I'll watch something on https://instagram.com \"]"
            ]
          },
          "metadata": {},
          "execution_count": 76
        }
      ]
    },
    {
      "cell_type": "markdown",
      "source": [
        "**Preprocessing**\n",
        "1. **Step one** is conveting evey text into lower case. Write a function to convert every text in above small_list into lower case"
      ],
      "metadata": {
        "id": "Z6Z4igK9BspV"
      }
    },
    {
      "cell_type": "code",
      "source": [
        "\n",
        "def lower_case(text):\n",
        "    lower_case_list = []\n",
        "    for tweet in text:\n",
        "        # Convert the tweet text to lowercase and save it into a new variable\n",
        "        lower_text = tweet.lower()\n",
        "\n",
        "        # Append the new variable into the lower_case list\n",
        "        lower_case_list.append(lower_text)\n",
        "\n",
        "    return lower_case_list\n",
        "#small_list = [\"This is a Tweet.\", \"Another tweet.\", \"Python is fun!\"]\n",
        "case_lower = lower_case(small_list)\n",
        "\n",
        "# Print the original list and the list after converting to lowercase\n",
        "print(\"Text before conversion to lowercase:\")\n",
        "print(small_list)\n",
        "print()\n",
        "print(\"Text after conversion to lowercase:\")\n",
        "print(case_lower)\n",
        "\n",
        "\n"
      ],
      "metadata": {
        "colab": {
          "base_uri": "https://localhost:8080/"
        },
        "id": "Nsr3JnBXCHKo",
        "outputId": "748c8fda-5dea-4c5f-e11f-b75855305bb6"
      },
      "execution_count": 81,
      "outputs": [
        {
          "output_type": "stream",
          "name": "stdout",
          "text": [
            "Text before conversion to lowercase:\n",
            "['In Ipoh now. Eta 6.45pm hope the jam not too bad. Lots of trees being chopped :(. Oh well ', \"When will `X-Men Origins:Wolverine` release in india ? looks like multiplex 'es are on strike  - no new films ?  #wolverine\", 'just finished one final ; got another one at 10! ..DEF. no sleep!', '@madmup We watch My Name is Earl, Reaper, Chuck, Castle and kind of Dollhouse together and @bishma also watches Sarah Connor Chronicles.', '@AlexAllTimeLow awwwwwwwwwwwwww pooor allexx ', '@dannygokey why arent on i on when u r!?!!!!?!? ', \"3:45 am and I can't sleep.....  Maybe I'll watch something on https://instagram.com \"]\n",
            "\n",
            "Text after conversion to lowercase:\n",
            "['in ipoh now. eta 6.45pm hope the jam not too bad. lots of trees being chopped :(. oh well ', \"when will `x-men origins:wolverine` release in india ? looks like multiplex 'es are on strike  - no new films ?  #wolverine\", 'just finished one final ; got another one at 10! ..def. no sleep!', '@madmup we watch my name is earl, reaper, chuck, castle and kind of dollhouse together and @bishma also watches sarah connor chronicles.', '@alexalltimelow awwwwwwwwwwwwww pooor allexx ', '@dannygokey why arent on i on when u r!?!!!!?!? ', \"3:45 am and i can't sleep.....  maybe i'll watch something on https://instagram.com \"]\n"
          ]
        }
      ]
    },
    {
      "cell_type": "markdown",
      "source": [
        "2. **Step2** is replacing URL's. We barely see any URL's in a comment. URL doesn't say much about emotion of the text, also it is a bit hard to encode URL's into our algorithms.\n",
        "<br>\n",
        "Hence, we replace all links with URL text\n",
        "<br>\n",
        "Can you comeup with a function to do that?\n",
        "Make sure to pass the text you obtained from step1 of preprocessing"
      ],
      "metadata": {
        "id": "-FJk_L4oDZLs"
      }
    },
    {
      "cell_type": "code",
      "source": [
        "def remove_url(text):\n",
        "      url_removed = []\n",
        "      urlPattern = r\"((http://)[^ ]*|(https://)[^ ]*|( www\\.)[^ ]*)\"\n",
        "\n",
        "      #Write your code here, its similar to function in step 1. But instead of replace, we make use of re.sub method\n",
        "      for tweet in text:\n",
        "        without = re.sub(urlPattern, 'URL', tweet)\n",
        "        url_removed.append(without)\n",
        "        return url_removed\n",
        "        url_removed = removed_url(case_lower)\n",
        "\n",
        "print(\"Text before step 2: \")\n",
        "print(case_lower)\n",
        "print()\n",
        "print(\"Text after step 2: \")\n",
        "\n",
        "print(url_removed)\n",
        "\n",
        "# You'll see the change in last sentence as we only have URL in last sentence"
      ],
      "metadata": {
        "colab": {
          "base_uri": "https://localhost:8080/"
        },
        "id": "ou8rRzBQDXVH",
        "outputId": "9722a3bf-f148-47ea-96cc-3fe08417b242"
      },
      "execution_count": 85,
      "outputs": [
        {
          "output_type": "stream",
          "name": "stdout",
          "text": [
            "Text before step 2: \n",
            "['in ipoh now. eta 6.45pm hope the jam not too bad. lots of trees being chopped :(. oh well ', \"when will `x-men origins:wolverine` release in india ? looks like multiplex 'es are on strike  - no new films ?  #wolverine\", 'just finished one final ; got another one at 10! ..def. no sleep!', '@madmup we watch my name is earl, reaper, chuck, castle and kind of dollhouse together and @bishma also watches sarah connor chronicles.', '@alexalltimelow awwwwwwwwwwwwww pooor allexx ', '@dannygokey why arent on i on when u r!?!!!!?!? ', \"3:45 am and i can't sleep.....  maybe i'll watch something on https://instagram.com \"]\n",
            "\n",
            "Text after step 2: \n",
            "None\n"
          ]
        }
      ]
    },
    {
      "cell_type": "markdown",
      "source": [
        "**Step3**:- Replacing Emojis: Sometimes in text people tend to express their emotions in emoji's instead of words, its hard for our model to take those symbols into consideration. But, we can't simply remove these emojis, cause they contains emotions. Hence we replace these emoji symbols with a emoji word.\n",
        "<br>\n",
        "If we have ':)' emoji in text, it means \"smile\". Hence we will replace it with \"EMOJIsmile\".\n",
        "\n",
        "How do we write a function to do so. Ofcourse, input to this function would be the text we got from step 2"
      ],
      "metadata": {
        "id": "btzaVgeAE_Bv"
      }
    },
    {
      "cell_type": "code",
      "source": [
        "emojis = {':)': 'smile', ':-)': 'smile', ';d': 'wink', ':-E': 'vampire', ':(': 'sad',\n",
        "          ':-(': 'sad', ':-<': 'sad', ':P': 'raspberry', ':O': 'surprised',\n",
        "          ':-@': 'shocked', ':@': 'shocked',':-$': 'confused', ':\\\\': 'annoyed',\n",
        "          ':#': 'mute', ':X': 'mute', ':^)': 'smile', ':-&': 'confused', '$_$': 'greedy',\n",
        "          '@@': 'eyeroll', ':-!': 'confused', ':-D': 'smile', ':-0': 'yell', 'O.o': 'confused',\n",
        "          '<(-_-)>': 'robot', 'd[-_-]b': 'dj', \":'-)\": 'sadsmile', ';)': 'wink',\n",
        "          ';-)': 'wink', 'O:-)': 'angel','O*-)': 'angel','(:-D': 'gossip', '=^.^=': 'cat'}\n",
        "\n",
        "def replace_emojis(text):\n",
        "    emoji_replaced = []\n",
        "    for tweet in text:\n",
        "        for emoji, replacement in emojis.items():\n",
        "            # Replace the emoji with its corresponding text\n",
        "            tweet = tweet.replace(emoji, replacement)\n",
        "        emoji_replaced.append(tweet)\n",
        "    return emoji_replaced\n",
        "\n",
        "# Assuming url_removed is defined somewhere in your code\n",
        "url_removed = [\"This is a tweet with a :)\", \"Another tweet with :-(\", \"I am a cat =^.^=\"]\n",
        "\n",
        "# Call the replace_emojis function and store the result in emoji_replaced\n",
        "emoji_replaced = replace_emojis(url_removed)\n",
        "\n",
        "# Print the text before and after replacing emojis\n",
        "print(\"Text before replacing emojis:\")\n",
        "print(url_removed)\n",
        "print()\n",
        "print(\"Text after replacing emojis:\")\n",
        "print(emoji_replaced)\n"
      ],
      "metadata": {
        "colab": {
          "base_uri": "https://localhost:8080/"
        },
        "id": "9wWge-rmE-Zb",
        "outputId": "8625e7ae-f935-42b2-c84d-d08a830fb309"
      },
      "execution_count": 98,
      "outputs": [
        {
          "output_type": "stream",
          "name": "stdout",
          "text": [
            "Text before replacing emojis:\n",
            "['This is a tweet with a :)', 'Another tweet with :-(', 'I am a cat =^.^=']\n",
            "\n",
            "Text after replacing emojis:\n",
            "['This is a tweet with a smile', 'Another tweet with sad', 'I am a cat cat']\n"
          ]
        }
      ]
    },
    {
      "cell_type": "markdown",
      "source": [
        "**Step4:** Replacing Usernames (@rajesh).\n",
        "<br> Name has nothing to do with emotions, our model should have same emotion value for 'Luke' or 'Jimmie' or 'Bissrat'. Hence, we repalce all the usernames with just the value 'USER'.\n",
        "<br>\n",
        "In comments we usually mentions someone by using @. Hence, one simple way to replace names is to replace words that starts with @ by 'USER'\n",
        "<br>\n",
        "Write a function for the above logic. We will input step 3 text here\n",
        "\n"
      ],
      "metadata": {
        "id": "UxGxqlYVIyHf"
      }
    },
    {
      "cell_type": "code",
      "source": [
        "def replace_username(text):\n",
        "      userPattern  = '@[^\\s]+'\n",
        "      username_replaced = []\n",
        "\n",
        "      #Write your code here\n",
        "      return username_replaced\n",
        "\n",
        "      for tweet in text:\n",
        "        for USER, replacement in user.items():\n",
        "          user = username_replaced(USER, replacement)\n",
        "          username_replaced.append(user)\n",
        "          return username_replaced\n",
        "\n",
        "username_replaced = replace_emojis(url_removed)\n",
        "print(\"Text before step 4: \")\n",
        "\n",
        "print(emoji_replaced)\n",
        "print()\n",
        "print(\"Text after step 4: \")\n",
        "\n",
        "print(username_replaced)"
      ],
      "metadata": {
        "colab": {
          "base_uri": "https://localhost:8080/"
        },
        "id": "jw5izVa-KaVU",
        "outputId": "2832c70a-f38a-4396-b55a-76ff01761ac7"
      },
      "execution_count": 108,
      "outputs": [
        {
          "output_type": "stream",
          "name": "stdout",
          "text": [
            "Text before step 4: \n",
            "['This is a tweet with a smile', 'Another tweet with sad', 'I am a cat cat']\n",
            "\n",
            "Text after step 4: \n",
            "['This is a tweet with a smile', 'Another tweet with sad', 'I am a cat cat']\n"
          ]
        }
      ]
    },
    {
      "cell_type": "markdown",
      "source": [
        "**Step5:** Removing Non-Alphabets:\n",
        "<br>\n",
        "One of the limitations of our algortihms is that it can only convert text which contains (a to z) or (A to Z) or (0 to 9). Stuff like (;) or (') or (!) cannot be converted.\n",
        "<br>\n",
        "Hence we need to replace Non-Alphabets into \" \".\n",
        "<br>\n",
        "With the help of regular expression provided. Implement a function to do this step. Input here would be the values from step 4.\n"
      ],
      "metadata": {
        "id": "-R_jCcIxLqcn"
      }
    },
    {
      "cell_type": "code",
      "source": [
        "def remove_non_alphabets(text):\n",
        "      alphaPattern = \"[^a-zA-Z0-9]\"\n",
        "      non_alphabets_removed = []\n",
        "      for tweet in text:\n",
        "        tweet = re.sub(alphaPattern, \" \", tweet)\n",
        "        non_alphabets_removed.append(tweet)\n",
        "      return non_alphabets_removed\n",
        "non_alphabets_removed = remove_non_alphabets(username_replaced)\n",
        "print(\"Text before step 5: \")\n",
        "\n",
        "print(username_replaced)\n",
        "print()\n",
        "print(\"Text after step 5: \")\n",
        "\n",
        "print(non_alphabets_removed)"
      ],
      "metadata": {
        "colab": {
          "base_uri": "https://localhost:8080/"
        },
        "id": "QBF4o106NaRc",
        "outputId": "dc326e5c-8f4f-4e22-a885-58860aefa603"
      },
      "execution_count": 110,
      "outputs": [
        {
          "output_type": "stream",
          "name": "stdout",
          "text": [
            "Text before step 5: \n",
            "['This is a tweet with a smile', 'Another tweet with sad', 'I am a cat cat']\n",
            "\n",
            "Text after step 5: \n",
            "['This is a tweet with a smile', 'Another tweet with sad', 'I am a cat cat']\n"
          ]
        }
      ]
    },
    {
      "cell_type": "markdown",
      "source": [
        "**Step 6:** Removing Consecutive letters:\n",
        "Inorder to feed the text data into our model training, we will convert text data into numbers. We do so by creating an individual column for each existing word.\n",
        "<br>\n",
        "Now, in comments sometimes people tend to type \"Heyyyyyyy\" instead of \"Heyy\" or \"Awwwwwwwww\" instead of \"Aww\". There is no point in creating two different columns for these kind of words/\n",
        "<br>Hence, any word with 3 or more consecutive letters are replaced by 2 letters. (eg: \"Heyyyy\" to \"Heyy\")\n",
        "<br>\n",
        "<br>\n",
        "Write a function to implement the above step, you will be provided with 2 regular expressions as a helper code. Also, input here would be text values from step 5"
      ],
      "metadata": {
        "id": "s9tBna3ROLXy"
      }
    },
    {
      "cell_type": "code",
      "source": [
        "def trim_multi_letters(text):\n",
        "      sequencePattern   = r\"(.)\\1\\1+\"\n",
        "      seqReplacePattern = r\"\\1\\1\"\n",
        "      multi_letters_removed = []\n",
        "      for tweet in text:\n",
        "        # Replace 3 or more consecutive letters by 2 letters.\n",
        "        tweet = re.sub(sequencePattern, seqReplacePattern, tweet)\n",
        "        multi_letters_removed.append(tweet)\n",
        "      return multi_letters_removed\n",
        "multi_letters_removed = trim_multi_letters(non_alphabets_removed)\n",
        "\n",
        "print(\"Text before step 6: \")\n",
        "print(non_alphabets_removed)\n",
        "print()\n",
        "print(\"Text after step 5: \")\n",
        "print(multi_letters_removed)"
      ],
      "metadata": {
        "colab": {
          "base_uri": "https://localhost:8080/"
        },
        "id": "Z9CATkZRPbzI",
        "outputId": "173ddf78-9fe2-4933-99eb-8f40a517f79f"
      },
      "execution_count": 111,
      "outputs": [
        {
          "output_type": "stream",
          "name": "stdout",
          "text": [
            "Text before step 6: \n",
            "['This is a tweet with a smile', 'Another tweet with sad', 'I am a cat cat']\n",
            "\n",
            "Text after step 5: \n",
            "['This is a tweet with a smile', 'Another tweet with sad', 'I am a cat cat']\n"
          ]
        }
      ]
    },
    {
      "cell_type": "markdown",
      "source": [
        "**Step 7:** Removing Short Words:\n",
        "We barely see any single letter words that adds any emotion into a comment. Creating a new column for them is not worth the memory resources.\n",
        "<br>\n",
        "Write a function to replace words with less than 2 letters. Input here would be the text we obtained from step 6.\n",
        "<br>"
      ],
      "metadata": {
        "id": "3XV9Z_VSRVuY"
      }
    },
    {
      "cell_type": "code",
      "source": [
        "def remove_single_letters(text):\n",
        "    text_without_single_letters = []\n",
        "    # Define a pattern to match words with less than 2 letters\n",
        "    shortWordPattern = r'\\b\\w{1}\\b'\n",
        "    for tweet in text:\n",
        "      tweet = re.sub(shortWordPattern, '', tweet)\n",
        "      text_without_single_letters.append(tweet)\n",
        "    return text_without_single_letters\n",
        "\n",
        "# Applying the function to remove single-letter words\n",
        "text_without_single_letters = remove_single_letters(multi_letters_removed)\n",
        "\n",
        "# Print the results\n",
        "print(\"Text before step 6:\")\n",
        "print(multi_letters_removed)\n",
        "print()\n",
        "print(\"Text after step 7:\")\n",
        "print(text_without_single_letters)\n"
      ],
      "metadata": {
        "colab": {
          "base_uri": "https://localhost:8080/"
        },
        "id": "82kla4woR82s",
        "outputId": "b7683a43-37ae-4c26-86f0-a0a388fbb2bb"
      },
      "execution_count": 112,
      "outputs": [
        {
          "output_type": "stream",
          "name": "stdout",
          "text": [
            "Text before step 6:\n",
            "['This is a tweet with a smile', 'Another tweet with sad', 'I am a cat cat']\n",
            "\n",
            "Text after step 7:\n",
            "['This is  tweet with  smile', 'Another tweet with sad', ' am  cat cat']\n"
          ]
        }
      ]
    },
    {
      "cell_type": "markdown",
      "source": [
        "**Step 8**: Stopword removal:\n",
        "<br>\n",
        "Stopwords like \"and\", \"the\", \"are\", \"on\" exits in both negative and positive reviews. Hence, they don't add much importance when it comes to emotion detection\n",
        "<br>\n",
        "W'll give you a list of stop words, write a function to check and remove those stopwords in a given list of texts. Here the input would the text value from step 7\n"
      ],
      "metadata": {
        "id": "Kz8PtAjOTZvd"
      }
    },
    {
      "cell_type": "code",
      "execution_count": 113,
      "metadata": {
        "id": "6spnvx9QpAFc",
        "colab": {
          "base_uri": "https://localhost:8080/"
        },
        "outputId": "c665cdde-d6ed-4297-a9ac-f455614250f9"
      },
      "outputs": [
        {
          "output_type": "stream",
          "name": "stdout",
          "text": [
            "Text before step 7: \n",
            "['This is  tweet with  smile', 'Another tweet with sad', ' am  cat cat']\n",
            "\n",
            "Text after step 7: \n",
            "['This   tweet   smile', 'Another tweet  sad', '   cat cat']\n"
          ]
        }
      ],
      "source": [
        "#Something wrong with this logic\n",
        "## Defining set containing all stopwords in english.\n",
        "stopwordlist = ['a', 'about', 'above', 'after', 'again', 'ain', 'all', 'am', 'an',\n",
        "             'and','any','are', 'as', 'at', 'be', 'because', 'been', 'before',\n",
        "             'being', 'below', 'between','both', 'by', 'can', 'd', 'did', 'do',\n",
        "             'does', 'doing', 'down', 'during', 'each','few', 'for', 'from',\n",
        "             'further', 'had', 'has', 'have', 'having', 'he', 'her', 'here',\n",
        "             'hers', 'herself', 'him', 'himself', 'his', 'how', 'i', 'if', 'in',\n",
        "             'into','is', 'it', 'its', 'itself', 'just', 'll', 'm', 'ma',\n",
        "             'me', 'more', 'most','my', 'myself', 'now', 'o', 'of', 'on', 'once',\n",
        "             'only', 'or', 'other', 'our', 'ours','ourselves', 'out', 'own', 're',\n",
        "             's', 'same', 'she', \"shes\", 'should', \"shouldve\",'so', 'some', 'such',\n",
        "             't', 'than', 'that', \"thatll\", 'the', 'their', 'theirs', 'them',\n",
        "             'themselves', 'then', 'there', 'these', 'they', 'this', 'those',\n",
        "             'through', 'to', 'too','under', 'until', 'up', 've', 'very', 'was',\n",
        "             'we', 'were', 'what', 'when', 'where','which','while', 'who', 'whom',\n",
        "             'why', 'will', 'with', 'won', 'y', 'you', \"youd\",\"youll\", \"youre\",\n",
        "             \"youve\", 'your', 'yours', 'yourself', 'yourselves']\n",
        "\n",
        "def remove_stopwords(text):\n",
        "      stopwords_removed = []\n",
        "      for tweet in text:\n",
        "        for word in stopwordlist:\n",
        "           tweet = re.sub(r'\\b' + word + r'\\b', '', tweet)\n",
        "        stopwords_removed.append(tweet)\n",
        "      return stopwords_removed\n",
        "\n",
        "\n",
        "stopwords_removed = remove_stopwords(text_without_single_letters)\n",
        "\n",
        "print(\"Text before step 7: \")\n",
        "print(text_without_single_letters)\n",
        "print()\n",
        "print(\"Text after step 7: \")\n",
        "\n",
        "print(stopwords_removed)"
      ]
    },
    {
      "cell_type": "markdown",
      "source": [
        "**Step 9**: Lemmatization\n",
        "Lemmatization is the process of converting a word to its base form. We have words like run, ran, running. These words mean the same, so we don't want our model to give them new columns. Hence, we lemmatize them to basically get the base words of the text.\n",
        "<br>\n",
        "I.e we convert words like run, ran, running into their base form run.\n",
        "<br>\n",
        "using the lemmatize method from slides, write a function to lemmatize the input text from step 8\n",
        "<br>\n",
        "**Hint** for each text, you have split the entire text into list of words, lemmatize each word, then append each new word to form a new sentence."
      ],
      "metadata": {
        "id": "-VOezWq8xnsm"
      }
    },
    {
      "cell_type": "code",
      "source": [
        "import nltk\n",
        "nltk.download('wordnet')"
      ],
      "metadata": {
        "colab": {
          "base_uri": "https://localhost:8080/"
        },
        "id": "G-46S-Aj1KZZ",
        "outputId": "d9849829-a3da-4c24-d946-dfbab95d0fa7"
      },
      "execution_count": 114,
      "outputs": [
        {
          "output_type": "stream",
          "name": "stderr",
          "text": [
            "[nltk_data] Downloading package wordnet to /root/nltk_data...\n",
            "[nltk_data]   Package wordnet is already up-to-date!\n"
          ]
        },
        {
          "output_type": "execute_result",
          "data": {
            "text/plain": [
              "True"
            ]
          },
          "metadata": {},
          "execution_count": 114
        }
      ]
    },
    {
      "cell_type": "code",
      "source": [
        "import re\n",
        "from nltk.stem import WordNetLemmatizer\n",
        "\n",
        "def lemmatize_text(text):\n",
        "  wordLemm = WordNetLemmatizer()\n",
        "  baseform_text = []\n",
        "  for tweet in text:\n",
        "    tweetwords = ''\n",
        "    for word in tweet.split():\n",
        "      if len(word) > 1:\n",
        "      # Lemmatizing the word.\n",
        "        word = wordLemm.lemmatize(word)\n",
        "        tweetwords += (word + ' ')\n",
        "    baseform_text.append(tweetwords)\n",
        "\n",
        "  return baseform_text\n",
        "\n",
        "\n",
        "\n",
        "\n",
        "baseform_text = lemmatize_text(stopwords_removed)\n",
        "\n",
        "print(\"Text before step 8: \")\n",
        "print(stopwords_removed)\n",
        "print()\n",
        "print(\"Text after step 8: \")\n",
        "\n",
        "print(baseform_text)\n"
      ],
      "metadata": {
        "colab": {
          "base_uri": "https://localhost:8080/"
        },
        "id": "IvbDktMgxnOh",
        "outputId": "76973a11-83de-468c-c3e7-2f677e77d38b"
      },
      "execution_count": 115,
      "outputs": [
        {
          "output_type": "stream",
          "name": "stdout",
          "text": [
            "Text before step 8: \n",
            "['This   tweet   smile', 'Another tweet  sad', '   cat cat']\n",
            "\n",
            "Text after step 8: \n",
            "['This tweet smile ', 'Another tweet sad ', 'cat cat ']\n"
          ]
        }
      ]
    }
  ],
  "metadata": {
    "colab": {
      "provenance": [],
      "toc_visible": true,
      "include_colab_link": true
    },
    "kernelspec": {
      "display_name": "Python 3",
      "name": "python3"
    },
    "language_info": {
      "name": "python"
    }
  },
  "nbformat": 4,
  "nbformat_minor": 0
}